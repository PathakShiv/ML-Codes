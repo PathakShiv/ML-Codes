{
  "nbformat": 4,
  "nbformat_minor": 0,
  "metadata": {
    "colab": {
      "name": "Gender Classification.ipynb",
      "provenance": [],
      "collapsed_sections": []
    },
    "kernelspec": {
      "name": "python3",
      "display_name": "Python 3"
    },
    "language_info": {
      "name": "python"
    }
  },
  "cells": [
    {
      "cell_type": "code",
      "metadata": {
        "colab": {
          "base_uri": "https://localhost:8080/"
        },
        "id": "9AplgLy5I0eP",
        "outputId": "1be6421f-58df-4180-8085-8ca5c6b5e9aa"
      },
      "source": [
        "import nltk\n",
        "nltk.download('names')\n",
        "from nltk.corpus import names\n",
        "print(names.fileids())"
      ],
      "execution_count": 1,
      "outputs": [
        {
          "output_type": "stream",
          "text": [
            "[nltk_data] Downloading package names to /root/nltk_data...\n",
            "[nltk_data]   Unzipping corpora/names.zip.\n",
            "['female.txt', 'male.txt']\n"
          ],
          "name": "stdout"
        }
      ]
    },
    {
      "cell_type": "code",
      "metadata": {
        "id": "R8sr2CKwI7d-"
      },
      "source": [
        "male_name=names.words('male.txt')\n",
        "female_name=names.words('female.txt')"
      ],
      "execution_count": 2,
      "outputs": []
    },
    {
      "cell_type": "code",
      "metadata": {
        "colab": {
          "base_uri": "https://localhost:8080/"
        },
        "id": "6sEp204AI9sq",
        "outputId": "b6631500-2e2e-430a-e233-9f09e49e991d"
      },
      "source": [
        "print(len(male_name))\n",
        "print(len(female_name))"
      ],
      "execution_count": 3,
      "outputs": [
        {
          "output_type": "stream",
          "text": [
            "2943\n",
            "5001\n"
          ],
          "name": "stdout"
        }
      ]
    },
    {
      "cell_type": "code",
      "metadata": {
        "colab": {
          "base_uri": "https://localhost:8080/"
        },
        "id": "RtENd_gEI_cr",
        "outputId": "c2d4b53b-26ef-4808-8134-10ef494d44a2"
      },
      "source": [
        "print(male_name[0:10])"
      ],
      "execution_count": 4,
      "outputs": [
        {
          "output_type": "stream",
          "text": [
            "['Aamir', 'Aaron', 'Abbey', 'Abbie', 'Abbot', 'Abbott', 'Abby', 'Abdel', 'Abdul', 'Abdulkarim']\n"
          ],
          "name": "stdout"
        }
      ]
    },
    {
      "cell_type": "code",
      "metadata": {
        "colab": {
          "base_uri": "https://localhost:8080/"
        },
        "id": "7h38EW23JCb-",
        "outputId": "44220ac3-c3da-41dc-9a52-30b125007950"
      },
      "source": [
        "female_names_2=[str(item) for item in female_name]\n",
        "print(female_names_2[0:10])"
      ],
      "execution_count": 5,
      "outputs": [
        {
          "output_type": "stream",
          "text": [
            "['Abagael', 'Abagail', 'Abbe', 'Abbey', 'Abbi', 'Abbie', 'Abby', 'Abigael', 'Abigail', 'Abigale']\n"
          ],
          "name": "stdout"
        }
      ]
    },
    {
      "cell_type": "code",
      "metadata": {
        "colab": {
          "base_uri": "https://localhost:8080/"
        },
        "id": "gZ2umAZQJENq",
        "outputId": "f2315542-f896-47e7-f9f8-e39ad424e0b5"
      },
      "source": [
        "def gender_feature(word):\n",
        "  return{'last_letter':word[-1]}\n",
        "print(gender_feature('Shivam'))"
      ],
      "execution_count": 6,
      "outputs": [
        {
          "output_type": "stream",
          "text": [
            "{'last_letter': 'm'}\n"
          ],
          "name": "stdout"
        }
      ]
    },
    {
      "cell_type": "code",
      "metadata": {
        "colab": {
          "base_uri": "https://localhost:8080/"
        },
        "id": "QUEKDM9MJGml",
        "outputId": "7653fce5-a591-41b9-e424-c1aee871e551"
      },
      "source": [
        "import random\n",
        "\n",
        "labeled_male_names= [(str(name),'male')for name in male_name]\n",
        "#printing first 10 labeled male names\n",
        "print(labeled_male_names[:10])\n",
        "# printing first 10 labeled female names\n",
        "labeled_female_names=[((str(name)),'female')for name in female_name]\n",
        "print(labeled_female_names[:10])\n",
        "\n",
        "labeled_all_names=labeled_male_names+labeled_female_names\n",
        "random.shuffle(labeled_all_names)\n",
        "print(labeled_all_names[:10])\n"
      ],
      "execution_count": 7,
      "outputs": [
        {
          "output_type": "stream",
          "text": [
            "[('Aamir', 'male'), ('Aaron', 'male'), ('Abbey', 'male'), ('Abbie', 'male'), ('Abbot', 'male'), ('Abbott', 'male'), ('Abby', 'male'), ('Abdel', 'male'), ('Abdul', 'male'), ('Abdulkarim', 'male')]\n",
            "[('Abagael', 'female'), ('Abagail', 'female'), ('Abbe', 'female'), ('Abbey', 'female'), ('Abbi', 'female'), ('Abbie', 'female'), ('Abby', 'female'), ('Abigael', 'female'), ('Abigail', 'female'), ('Abigale', 'female')]\n",
            "[('Illa', 'female'), ('Seth', 'male'), ('Gwyn', 'female'), ('Donal', 'male'), ('Candra', 'female'), ('Carlyn', 'female'), ('Carena', 'female'), ('Neilla', 'female'), ('Bartholemy', 'male'), ('Parke', 'male')]\n"
          ],
          "name": "stdout"
        }
      ]
    },
    {
      "cell_type": "code",
      "metadata": {
        "colab": {
          "base_uri": "https://localhost:8080/"
        },
        "id": "R9ogEXLyJIz2",
        "outputId": "d0848c1f-8655-4a41-86e2-637ebc76c0b6"
      },
      "source": [
        "feature_set=[(gender_feature(name),gender)for (name,gender)in labeled_all_names]\n",
        "print(labeled_all_names[:10])"
      ],
      "execution_count": 8,
      "outputs": [
        {
          "output_type": "stream",
          "text": [
            "[('Illa', 'female'), ('Seth', 'male'), ('Gwyn', 'female'), ('Donal', 'male'), ('Candra', 'female'), ('Carlyn', 'female'), ('Carena', 'female'), ('Neilla', 'female'), ('Bartholemy', 'male'), ('Parke', 'male')]\n"
          ],
          "name": "stdout"
        }
      ]
    },
    {
      "cell_type": "code",
      "metadata": {
        "colab": {
          "base_uri": "https://localhost:8080/"
        },
        "id": "L0oZkxWZJLub",
        "outputId": "1eeee042-6205-4928-9f35-d6cda20e0ccf"
      },
      "source": [
        "print(len(feature_set))\n",
        "\n",
        "test_set = feature_set[:1500]\n",
        "train_set = feature_set[1500:]\n",
        "\n",
        "print(len(test_set))\n",
        "print(len(train_set))"
      ],
      "execution_count": 9,
      "outputs": [
        {
          "output_type": "stream",
          "text": [
            "7944\n",
            "1500\n",
            "6444\n"
          ],
          "name": "stdout"
        }
      ]
    },
    {
      "cell_type": "code",
      "metadata": {
        "id": "3YPDpWHDJOGN"
      },
      "source": [
        "from nltk import NaiveBayesClassifier\n",
        "Classifier=NaiveBayesClassifier.train(train_set)"
      ],
      "execution_count": 10,
      "outputs": []
    },
    {
      "cell_type": "code",
      "metadata": {
        "colab": {
          "base_uri": "https://localhost:8080/"
        },
        "id": "XMYB2bVPJP4e",
        "outputId": "5c5305aa-57e9-432f-8a9e-d91cd705c62b"
      },
      "source": [
        "Classifier"
      ],
      "execution_count": 11,
      "outputs": [
        {
          "output_type": "execute_result",
          "data": {
            "text/plain": [
              "<nltk.classify.naivebayes.NaiveBayesClassifier at 0x7ff26a670510>"
            ]
          },
          "metadata": {
            "tags": []
          },
          "execution_count": 11
        }
      ]
    },
    {
      "cell_type": "code",
      "metadata": {
        "colab": {
          "base_uri": "https://localhost:8080/"
        },
        "id": "hyR-bZTCJQZn",
        "outputId": "31b17324-d342-43aa-d67b-a7b152fed39f"
      },
      "source": [
        "print(Classifier.classify(gender_feature(\"Shivam\")))\n",
        "print(Classifier.classify(gender_feature(\"Pathak\")))"
      ],
      "execution_count": 12,
      "outputs": [
        {
          "output_type": "stream",
          "text": [
            "male\n",
            "male\n"
          ],
          "name": "stdout"
        }
      ]
    },
    {
      "cell_type": "code",
      "metadata": {
        "colab": {
          "base_uri": "https://localhost:8080/"
        },
        "id": "gxPXs4AuJS1F",
        "outputId": "608605ae-be44-4d58-ba09-1409089d9eca"
      },
      "source": [
        "from nltk import classify\n",
        "accuracy=classify.accuracy(Classifier,test_set)\n",
        "print(accuracy)"
      ],
      "execution_count": 13,
      "outputs": [
        {
          "output_type": "stream",
          "text": [
            "0.76\n"
          ],
          "name": "stdout"
        }
      ]
    }
  ]
}