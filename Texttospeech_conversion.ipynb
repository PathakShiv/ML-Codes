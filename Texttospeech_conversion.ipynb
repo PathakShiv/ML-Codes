{
  "nbformat": 4,
  "nbformat_minor": 0,
  "metadata": {
    "colab": {
      "name": "Texttospeech conversion.ipynb",
      "provenance": []
    },
    "kernelspec": {
      "name": "python3",
      "display_name": "Python 3"
    }
  },
  "cells": [
    {
      "cell_type": "code",
      "metadata": {
        "colab": {
          "base_uri": "https://localhost:8080/"
        },
        "id": "bEE3o8UOsxRt",
        "outputId": "bf103462-dda1-4024-b023-141eec8bcd85"
      },
      "source": [
        "!pip install gtts"
      ],
      "execution_count": 1,
      "outputs": [
        {
          "output_type": "stream",
          "text": [
            "Collecting gtts\n",
            "  Downloading https://files.pythonhosted.org/packages/5f/b9/94e59337107be134b21ce395a29fc0715b707b560108d6797de2d93e1178/gTTS-2.2.2-py3-none-any.whl\n",
            "Requirement already satisfied: requests in /usr/local/lib/python3.7/dist-packages (from gtts) (2.23.0)\n",
            "Requirement already satisfied: click in /usr/local/lib/python3.7/dist-packages (from gtts) (7.1.2)\n",
            "Requirement already satisfied: six in /usr/local/lib/python3.7/dist-packages (from gtts) (1.15.0)\n",
            "Requirement already satisfied: urllib3!=1.25.0,!=1.25.1,<1.26,>=1.21.1 in /usr/local/lib/python3.7/dist-packages (from requests->gtts) (1.24.3)\n",
            "Requirement already satisfied: certifi>=2017.4.17 in /usr/local/lib/python3.7/dist-packages (from requests->gtts) (2020.12.5)\n",
            "Requirement already satisfied: idna<3,>=2.5 in /usr/local/lib/python3.7/dist-packages (from requests->gtts) (2.10)\n",
            "Requirement already satisfied: chardet<4,>=3.0.2 in /usr/local/lib/python3.7/dist-packages (from requests->gtts) (3.0.4)\n",
            "Installing collected packages: gtts\n",
            "Successfully installed gtts-2.2.2\n"
          ],
          "name": "stdout"
        }
      ]
    },
    {
      "cell_type": "code",
      "metadata": {
        "id": "pnjPxTLrs8dO"
      },
      "source": [
        "text=\"Musk was born on June 28, 1971, in Pretoria, South Africa. As a child, Musk was so lost in his daydreams about inventions that his parents and doctors ordered a test to check his hearing.\\\n",
        "At about the time of his parents’ divorce, when he was 10, Musk developed an interest in computers. He taught himself how to program, and when he was 12 he sold his first software: a game he created called Blastar.\\\n",
        "In grade school, Musk was short, introverted and bookish. He was bullied until he was 15 and went through a growth spurt and learned how to defend himself with karate and wrestling.\""
      ],
      "execution_count": 2,
      "outputs": []
    },
    {
      "cell_type": "code",
      "metadata": {
        "id": "luwwuXvftb7n"
      },
      "source": [
        "from gtts import gTTS\n",
        "import os \n",
        "speak=gTTS(text=text,lang='en',slow=False)"
      ],
      "execution_count": 3,
      "outputs": []
    },
    {
      "cell_type": "code",
      "metadata": {
        "id": "0po7-L5jtvR3"
      },
      "source": [
        "speak.save('text.mp3')"
      ],
      "execution_count": 4,
      "outputs": []
    },
    {
      "cell_type": "code",
      "metadata": {
        "colab": {
          "base_uri": "https://localhost:8080/"
        },
        "id": "gzLsniyjuGdn",
        "outputId": "a3a0b382-df43-4e75-9056-6060c33f698d"
      },
      "source": [
        "os.system('start text.mp3')"
      ],
      "execution_count": 5,
      "outputs": [
        {
          "output_type": "execute_result",
          "data": {
            "text/plain": [
              "32512"
            ]
          },
          "metadata": {
            "tags": []
          },
          "execution_count": 5
        }
      ]
    },
    {
      "cell_type": "code",
      "metadata": {
        "colab": {
          "base_uri": "https://localhost:8080/"
        },
        "id": "ULSVztHiuM0J",
        "outputId": "9fcbd971-f4db-4d8e-9112-b4e02658fe24"
      },
      "source": [
        "!pip install pyttsx3\n",
        "!pip install pypiwin32 #WINDOW ONLY "
      ],
      "execution_count": 6,
      "outputs": [
        {
          "output_type": "stream",
          "text": [
            "Collecting pyttsx3\n",
            "  Downloading https://files.pythonhosted.org/packages/33/9a/de4781245f5ad966646fd276259ef7cfd400ba3cf7d5db7c0d5aab310c20/pyttsx3-2.90-py3-none-any.whl\n",
            "Installing collected packages: pyttsx3\n",
            "Successfully installed pyttsx3-2.90\n",
            "Collecting pypiwin32\n",
            "  Downloading https://files.pythonhosted.org/packages/d0/1b/2f292bbd742e369a100c91faa0483172cd91a1a422a6692055ac920946c5/pypiwin32-223-py3-none-any.whl\n",
            "\u001b[31mERROR: Could not find a version that satisfies the requirement pywin32>=223 (from pypiwin32) (from versions: none)\u001b[0m\n",
            "\u001b[31mERROR: No matching distribution found for pywin32>=223 (from pypiwin32)\u001b[0m\n"
          ],
          "name": "stdout"
        }
      ]
    },
    {
      "cell_type": "code",
      "metadata": {
        "colab": {
          "base_uri": "https://localhost:8080/"
        },
        "id": "E6u6TdBJxLFO",
        "outputId": "7fb8befd-a640-4afc-a6c6-4e30079e2596"
      },
      "source": [
        "!sudo apt install libespeak1"
      ],
      "execution_count": 7,
      "outputs": [
        {
          "output_type": "stream",
          "text": [
            "Reading package lists... Done\n",
            "Building dependency tree       \n",
            "Reading state information... Done\n",
            "The following additional packages will be installed:\n",
            "  espeak-data libportaudio2 libsonic0\n",
            "The following NEW packages will be installed:\n",
            "  espeak-data libespeak1 libportaudio2 libsonic0\n",
            "0 upgraded, 4 newly installed, 0 to remove and 31 not upgraded.\n",
            "Need to get 1,157 kB of archives.\n",
            "After this operation, 2,822 kB of additional disk space will be used.\n",
            "Get:1 http://archive.ubuntu.com/ubuntu bionic/universe amd64 espeak-data amd64 1.48.04+dfsg-5 [934 kB]\n",
            "Get:2 http://archive.ubuntu.com/ubuntu bionic/universe amd64 libportaudio2 amd64 19.6.0-1 [64.6 kB]\n",
            "Get:3 http://archive.ubuntu.com/ubuntu bionic/main amd64 libsonic0 amd64 0.2.0-6 [13.4 kB]\n",
            "Get:4 http://archive.ubuntu.com/ubuntu bionic/universe amd64 libespeak1 amd64 1.48.04+dfsg-5 [145 kB]\n",
            "Fetched 1,157 kB in 1s (1,519 kB/s)\n",
            "debconf: unable to initialize frontend: Dialog\n",
            "debconf: (No usable dialog-like program is installed, so the dialog based frontend cannot be used. at /usr/share/perl5/Debconf/FrontEnd/Dialog.pm line 76, <> line 4.)\n",
            "debconf: falling back to frontend: Readline\n",
            "debconf: unable to initialize frontend: Readline\n",
            "debconf: (This frontend requires a controlling tty.)\n",
            "debconf: falling back to frontend: Teletype\n",
            "dpkg-preconfigure: unable to re-open stdin: \n",
            "Selecting previously unselected package espeak-data:amd64.\n",
            "(Reading database ... 160983 files and directories currently installed.)\n",
            "Preparing to unpack .../espeak-data_1.48.04+dfsg-5_amd64.deb ...\n",
            "Unpacking espeak-data:amd64 (1.48.04+dfsg-5) ...\n",
            "Selecting previously unselected package libportaudio2:amd64.\n",
            "Preparing to unpack .../libportaudio2_19.6.0-1_amd64.deb ...\n",
            "Unpacking libportaudio2:amd64 (19.6.0-1) ...\n",
            "Selecting previously unselected package libsonic0:amd64.\n",
            "Preparing to unpack .../libsonic0_0.2.0-6_amd64.deb ...\n",
            "Unpacking libsonic0:amd64 (0.2.0-6) ...\n",
            "Selecting previously unselected package libespeak1:amd64.\n",
            "Preparing to unpack .../libespeak1_1.48.04+dfsg-5_amd64.deb ...\n",
            "Unpacking libespeak1:amd64 (1.48.04+dfsg-5) ...\n",
            "Setting up libportaudio2:amd64 (19.6.0-1) ...\n",
            "Setting up espeak-data:amd64 (1.48.04+dfsg-5) ...\n",
            "Setting up libsonic0:amd64 (0.2.0-6) ...\n",
            "Setting up libespeak1:amd64 (1.48.04+dfsg-5) ...\n",
            "Processing triggers for libc-bin (2.27-3ubuntu1.2) ...\n",
            "/sbin/ldconfig.real: /usr/local/lib/python3.7/dist-packages/ideep4py/lib/libmkldnn.so.0 is not a symbolic link\n",
            "\n"
          ],
          "name": "stdout"
        }
      ]
    },
    {
      "cell_type": "code",
      "metadata": {
        "id": "MNTjoGYIv4nX"
      },
      "source": [
        "import pyttsx3"
      ],
      "execution_count": 8,
      "outputs": []
    },
    {
      "cell_type": "code",
      "metadata": {
        "id": "6zve4pZEwFe5"
      },
      "source": [
        "engine = pyttsx3.init()"
      ],
      "execution_count": 9,
      "outputs": []
    },
    {
      "cell_type": "code",
      "metadata": {
        "id": "gqF9PQy5yHVM"
      },
      "source": [
        "v=engine.getProperty('voices')\n",
        "vol=engine.getProperty('volume')\n",
        "engine.setProperty('volume',0.8)\n",
        "engine.setProperty('rate',80)"
      ],
      "execution_count": 10,
      "outputs": []
    },
    {
      "cell_type": "code",
      "metadata": {
        "id": "WrFJg62NwNiE"
      },
      "source": [
        "engine.say('Hello good morning how are you')"
      ],
      "execution_count": 12,
      "outputs": []
    },
    {
      "cell_type": "code",
      "metadata": {
        "id": "ZjAz3lqE2oCW"
      },
      "source": [
        "engine.runAndWait()"
      ],
      "execution_count": 13,
      "outputs": []
    },
    {
      "cell_type": "code",
      "metadata": {
        "colab": {
          "base_uri": "https://localhost:8080/"
        },
        "id": "4CIgy4dt6ZgV",
        "outputId": "19132c86-a986-4e76-f82d-fdf0a6aa7abc"
      },
      "source": [
        "for voice in v:\n",
        "  print('voices')\n",
        "  print(f'Id {voice.id}')\n",
        "  print(f'Name{voice.name}')\n",
        "  print(f'Language {voice.languages}')\n",
        "  print(f'Gender {voice.gender}')\n",
        "  print(f'Age {voice.age}')"
      ],
      "execution_count": 14,
      "outputs": [
        {
          "output_type": "stream",
          "text": [
            "voices\n",
            "Id afrikaans\n",
            "Nameafrikaans\n",
            "Language [b'\\x05af']\n",
            "Gender male\n",
            "Age None\n",
            "voices\n",
            "Id aragonese\n",
            "Namearagonese\n",
            "Language [b'\\x05an']\n",
            "Gender male\n",
            "Age None\n",
            "voices\n",
            "Id bulgarian\n",
            "Namebulgarian\n",
            "Language [b'\\x05bg']\n",
            "Gender None\n",
            "Age None\n",
            "voices\n",
            "Id bosnian\n",
            "Namebosnian\n",
            "Language [b'\\x05bs']\n",
            "Gender male\n",
            "Age None\n",
            "voices\n",
            "Id catalan\n",
            "Namecatalan\n",
            "Language [b'\\x05ca']\n",
            "Gender male\n",
            "Age None\n",
            "voices\n",
            "Id czech\n",
            "Nameczech\n",
            "Language [b'\\x05cs']\n",
            "Gender male\n",
            "Age None\n",
            "voices\n",
            "Id welsh\n",
            "Namewelsh\n",
            "Language [b'\\x05cy']\n",
            "Gender male\n",
            "Age None\n",
            "voices\n",
            "Id danish\n",
            "Namedanish\n",
            "Language [b'\\x05da']\n",
            "Gender male\n",
            "Age None\n",
            "voices\n",
            "Id german\n",
            "Namegerman\n",
            "Language [b'\\x05de']\n",
            "Gender male\n",
            "Age None\n",
            "voices\n",
            "Id greek\n",
            "Namegreek\n",
            "Language [b'\\x05el']\n",
            "Gender male\n",
            "Age None\n",
            "voices\n",
            "Id default\n",
            "Namedefault\n",
            "Language [b'\\x05en']\n",
            "Gender male\n",
            "Age None\n",
            "voices\n",
            "Id english\n",
            "Nameenglish\n",
            "Language [b'\\x02en-gb']\n",
            "Gender male\n",
            "Age None\n",
            "voices\n",
            "Id en-scottish\n",
            "Nameen-scottish\n",
            "Language [b'\\x05en-sc']\n",
            "Gender male\n",
            "Age None\n",
            "voices\n",
            "Id english-north\n",
            "Nameenglish-north\n",
            "Language [b'\\x05en-uk-north']\n",
            "Gender male\n",
            "Age None\n",
            "voices\n",
            "Id english_rp\n",
            "Nameenglish_rp\n",
            "Language [b'\\x05en-uk-rp']\n",
            "Gender male\n",
            "Age None\n",
            "voices\n",
            "Id english_wmids\n",
            "Nameenglish_wmids\n",
            "Language [b'\\x05en-uk-wmids']\n",
            "Gender male\n",
            "Age None\n",
            "voices\n",
            "Id english-us\n",
            "Nameenglish-us\n",
            "Language [b'\\x02en-us']\n",
            "Gender male\n",
            "Age None\n",
            "voices\n",
            "Id en-westindies\n",
            "Nameen-westindies\n",
            "Language [b'\\x05en-wi']\n",
            "Gender male\n",
            "Age None\n",
            "voices\n",
            "Id esperanto\n",
            "Nameesperanto\n",
            "Language [b'\\x05eo']\n",
            "Gender male\n",
            "Age None\n",
            "voices\n",
            "Id spanish\n",
            "Namespanish\n",
            "Language [b'\\x05es']\n",
            "Gender male\n",
            "Age None\n",
            "voices\n",
            "Id spanish-latin-am\n",
            "Namespanish-latin-am\n",
            "Language [b'\\x05es-la']\n",
            "Gender male\n",
            "Age None\n",
            "voices\n",
            "Id estonian\n",
            "Nameestonian\n",
            "Language [b'\\x05et']\n",
            "Gender None\n",
            "Age None\n",
            "voices\n",
            "Id persian\n",
            "Namepersian\n",
            "Language [b'\\x05fa']\n",
            "Gender None\n",
            "Age None\n",
            "voices\n",
            "Id persian-pinglish\n",
            "Namepersian-pinglish\n",
            "Language [b'\\x05fa-pin']\n",
            "Gender None\n",
            "Age None\n",
            "voices\n",
            "Id finnish\n",
            "Namefinnish\n",
            "Language [b'\\x05fi']\n",
            "Gender male\n",
            "Age None\n",
            "voices\n",
            "Id french-Belgium\n",
            "Namefrench-Belgium\n",
            "Language [b'\\x05fr-be']\n",
            "Gender male\n",
            "Age None\n",
            "voices\n",
            "Id french\n",
            "Namefrench\n",
            "Language [b'\\x05fr-fr']\n",
            "Gender male\n",
            "Age None\n",
            "voices\n",
            "Id irish-gaeilge\n",
            "Nameirish-gaeilge\n",
            "Language [b'\\x05ga']\n",
            "Gender None\n",
            "Age None\n",
            "voices\n",
            "Id greek-ancient\n",
            "Namegreek-ancient\n",
            "Language [b'\\x05grc']\n",
            "Gender male\n",
            "Age None\n",
            "voices\n",
            "Id hindi\n",
            "Namehindi\n",
            "Language [b'\\x05hi']\n",
            "Gender male\n",
            "Age None\n",
            "voices\n",
            "Id croatian\n",
            "Namecroatian\n",
            "Language [b'\\x05hr']\n",
            "Gender male\n",
            "Age None\n",
            "voices\n",
            "Id hungarian\n",
            "Namehungarian\n",
            "Language [b'\\x05hu']\n",
            "Gender male\n",
            "Age None\n",
            "voices\n",
            "Id armenian\n",
            "Namearmenian\n",
            "Language [b'\\x05hy']\n",
            "Gender male\n",
            "Age None\n",
            "voices\n",
            "Id armenian-west\n",
            "Namearmenian-west\n",
            "Language [b'\\x05hy-west']\n",
            "Gender male\n",
            "Age None\n",
            "voices\n",
            "Id indonesian\n",
            "Nameindonesian\n",
            "Language [b'\\x05id']\n",
            "Gender male\n",
            "Age None\n",
            "voices\n",
            "Id icelandic\n",
            "Nameicelandic\n",
            "Language [b'\\x05is']\n",
            "Gender male\n",
            "Age None\n",
            "voices\n",
            "Id italian\n",
            "Nameitalian\n",
            "Language [b'\\x05it']\n",
            "Gender male\n",
            "Age None\n",
            "voices\n",
            "Id lojban\n",
            "Namelojban\n",
            "Language [b'\\x05jbo']\n",
            "Gender None\n",
            "Age None\n",
            "voices\n",
            "Id georgian\n",
            "Namegeorgian\n",
            "Language [b'\\x05ka']\n",
            "Gender None\n",
            "Age None\n",
            "voices\n",
            "Id kannada\n",
            "Namekannada\n",
            "Language [b'\\x05kn']\n",
            "Gender None\n",
            "Age None\n",
            "voices\n",
            "Id kurdish\n",
            "Namekurdish\n",
            "Language [b'\\x05ku']\n",
            "Gender male\n",
            "Age None\n",
            "voices\n",
            "Id latin\n",
            "Namelatin\n",
            "Language [b'\\x05la']\n",
            "Gender male\n",
            "Age None\n",
            "voices\n",
            "Id lingua_franca_nova\n",
            "Namelingua_franca_nova\n",
            "Language [b'\\x05lfn']\n",
            "Gender male\n",
            "Age None\n",
            "voices\n",
            "Id lithuanian\n",
            "Namelithuanian\n",
            "Language [b'\\x05lt']\n",
            "Gender male\n",
            "Age None\n",
            "voices\n",
            "Id latvian\n",
            "Namelatvian\n",
            "Language [b'\\x05lv']\n",
            "Gender male\n",
            "Age None\n",
            "voices\n",
            "Id macedonian\n",
            "Namemacedonian\n",
            "Language [b'\\x05mk']\n",
            "Gender male\n",
            "Age None\n",
            "voices\n",
            "Id malayalam\n",
            "Namemalayalam\n",
            "Language [b'\\x05ml']\n",
            "Gender male\n",
            "Age None\n",
            "voices\n",
            "Id malay\n",
            "Namemalay\n",
            "Language [b'\\x05ms']\n",
            "Gender male\n",
            "Age None\n",
            "voices\n",
            "Id nepali\n",
            "Namenepali\n",
            "Language [b'\\x05ne']\n",
            "Gender male\n",
            "Age None\n",
            "voices\n",
            "Id dutch\n",
            "Namedutch\n",
            "Language [b'\\x05nl']\n",
            "Gender male\n",
            "Age None\n",
            "voices\n",
            "Id norwegian\n",
            "Namenorwegian\n",
            "Language [b'\\x05no']\n",
            "Gender male\n",
            "Age None\n",
            "voices\n",
            "Id punjabi\n",
            "Namepunjabi\n",
            "Language [b'\\x05pa']\n",
            "Gender None\n",
            "Age None\n",
            "voices\n",
            "Id polish\n",
            "Namepolish\n",
            "Language [b'\\x05pl']\n",
            "Gender male\n",
            "Age None\n",
            "voices\n",
            "Id brazil\n",
            "Namebrazil\n",
            "Language [b'\\x05pt-br']\n",
            "Gender male\n",
            "Age None\n",
            "voices\n",
            "Id portugal\n",
            "Nameportugal\n",
            "Language [b'\\x05pt-pt']\n",
            "Gender male\n",
            "Age None\n",
            "voices\n",
            "Id romanian\n",
            "Nameromanian\n",
            "Language [b'\\x05ro']\n",
            "Gender male\n",
            "Age None\n",
            "voices\n",
            "Id russian\n",
            "Namerussian\n",
            "Language [b'\\x05ru']\n",
            "Gender male\n",
            "Age None\n",
            "voices\n",
            "Id slovak\n",
            "Nameslovak\n",
            "Language [b'\\x05sk']\n",
            "Gender male\n",
            "Age None\n",
            "voices\n",
            "Id albanian\n",
            "Namealbanian\n",
            "Language [b'\\x05sq']\n",
            "Gender male\n",
            "Age None\n",
            "voices\n",
            "Id serbian\n",
            "Nameserbian\n",
            "Language [b'\\x05sr']\n",
            "Gender male\n",
            "Age None\n",
            "voices\n",
            "Id swedish\n",
            "Nameswedish\n",
            "Language [b'\\x05sv']\n",
            "Gender male\n",
            "Age None\n",
            "voices\n",
            "Id swahili-test\n",
            "Nameswahili-test\n",
            "Language [b'\\x05sw']\n",
            "Gender male\n",
            "Age None\n",
            "voices\n",
            "Id tamil\n",
            "Nametamil\n",
            "Language [b'\\x05ta']\n",
            "Gender male\n",
            "Age None\n",
            "voices\n",
            "Id turkish\n",
            "Nameturkish\n",
            "Language [b'\\x05tr']\n",
            "Gender male\n",
            "Age None\n",
            "voices\n",
            "Id vietnam\n",
            "Namevietnam\n",
            "Language [b'\\x05vi']\n",
            "Gender male\n",
            "Age None\n",
            "voices\n",
            "Id vietnam_hue\n",
            "Namevietnam_hue\n",
            "Language [b'\\x05vi-hue']\n",
            "Gender male\n",
            "Age None\n",
            "voices\n",
            "Id vietnam_sgn\n",
            "Namevietnam_sgn\n",
            "Language [b'\\x05vi-sgn']\n",
            "Gender male\n",
            "Age None\n",
            "voices\n",
            "Id Mandarin\n",
            "NameMandarin\n",
            "Language [b'\\x05zh']\n",
            "Gender male\n",
            "Age None\n",
            "voices\n",
            "Id cantonese\n",
            "Namecantonese\n",
            "Language [b'\\x05zh-yue']\n",
            "Gender male\n",
            "Age None\n"
          ],
          "name": "stdout"
        }
      ]
    },
    {
      "cell_type": "code",
      "metadata": {
        "id": "_Mdm5OOE6Z1-"
      },
      "source": [
        "e=pyttsx3.init()\n",
        "e.setProperty('volume',0.5)\n",
        "e.say('hello Everyone testing')\n",
        "\n",
        "e.save_to_file('hello Everyone testing','test.mp3')\n",
        "e.runAndWait()"
      ],
      "execution_count": 15,
      "outputs": []
    },
    {
      "cell_type": "code",
      "metadata": {
        "id": "xUKJmFmo9ioB",
        "colab": {
          "base_uri": "https://localhost:8080/"
        },
        "outputId": "894c763a-57cb-478f-eae1-a6971c8e86de"
      },
      "source": [
        "os.system('start test.mp3') "
      ],
      "execution_count": 16,
      "outputs": [
        {
          "output_type": "execute_result",
          "data": {
            "text/plain": [
              "32512"
            ]
          },
          "metadata": {
            "tags": []
          },
          "execution_count": 16
        }
      ]
    }
  ]
}